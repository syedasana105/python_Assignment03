{
 "cells": [
  {
   "cell_type": "code",
   "execution_count": 3,
   "id": "f2c344e5",
   "metadata": {},
   "outputs": [
    {
     "name": "stdout",
     "output_type": "stream",
     "text": [
      "Twinkle, twinkle, little star,\n",
      "\tHow I wonder what you are!\n",
      "\t\tUp above the world so high,\n",
      "\t\tLike a diamond in the sky.\n",
      "Twinkle, twinkle, little star,\n",
      "\tHow I wonder what you are\n"
     ]
    }
   ],
   "source": [
    "#  1. Write a Python program to print the following string in a specific format (see the output).\n",
    "print(\"Twinkle, twinkle, little star,\\n\\tHow I wonder what you are!\\n\\t\\tUp above the world so high,\\n\\t\\tLike a diamond in the sky.\\nTwinkle, twinkle, little star,\\n\\tHow I wonder what you are\");"
   ]
  },
  {
   "cell_type": "code",
   "execution_count": 6,
   "id": "de89dd11",
   "metadata": {},
   "outputs": [
    {
     "name": "stdout",
     "output_type": "stream",
     "text": [
      "Python version\n",
      "3.8.8 (default, Apr 13 2021, 15:08:03) [MSC v.1916 64 bit (AMD64)]\n"
     ]
    }
   ],
   "source": [
    "# 2. Write a Python program to get the Python version you are using\n",
    "import sys\n",
    "print(\"Python version\");\n",
    "print(sys.version);"
   ]
  },
  {
   "cell_type": "code",
   "execution_count": 9,
   "id": "080c244d",
   "metadata": {},
   "outputs": [
    {
     "name": "stdout",
     "output_type": "stream",
     "text": [
      "Current date and time : \n",
      "2021-10-22 00:08:19\n"
     ]
    }
   ],
   "source": [
    "# 3. Write a Python program to display the current date and time.\n",
    "import datetime\n",
    "current = datetime.datetime.now();\n",
    "print (\"Current date and time : \");\n",
    "print (current.strftime(\"%Y-%m-%d %H:%M:%S\"));\n"
   ]
  },
  {
   "cell_type": "code",
   "execution_count": 13,
   "id": "7ba075ab",
   "metadata": {},
   "outputs": [
    {
     "name": "stdout",
     "output_type": "stream",
     "text": [
      "Enter radius of circle : 2\n",
      "Area of the circle is: 12.568\n"
     ]
    }
   ],
   "source": [
    "# 4. Write a Python program which accepts the radius of a circle from the user and compute the area.\n",
    "pi = 3.142;\n",
    "radius = float(input(\"Enter radius of circle : \"));\n",
    "print (\"Area of the circle is: \"+str(pi * radius**2));\n"
   ]
  },
  {
   "cell_type": "code",
   "execution_count": 14,
   "id": "fedda13c",
   "metadata": {},
   "outputs": [
    {
     "name": "stdout",
     "output_type": "stream",
     "text": [
      "Input your First Name : sana\n",
      "Input your Last Name : akber\n",
      "akber sana\n"
     ]
    }
   ],
   "source": [
    "# 5.Write a Python program which accepts the user's first and last name and print them in reverse order with a space between them.\n",
    "firstName = input(\"Input your First Name : \")\n",
    "lastName = input(\"Input your Last Name : \")\n",
    "print (lastName + \" \" + firstName)"
   ]
  },
  {
   "cell_type": "code",
   "execution_count": 26,
   "id": "7d305e7a",
   "metadata": {},
   "outputs": [
    {
     "name": "stdout",
     "output_type": "stream",
     "text": [
      "enter first number : 7\n",
      "enter second number : 9\n",
      "addition of 7 and 9 is 16\n"
     ]
    }
   ],
   "source": [
    "# 6. Write a python program which takes two inputs from user and print them addition.\n",
    "x=int(input(\"enter first number : \"));\n",
    "y=int(input(\"enter second number : \"));\n",
    "print(\"addition of \"+str(x)+\" and \"+str(y)+\" is\",x+y);\n"
   ]
  },
  {
   "cell_type": "code",
   "execution_count": 1,
   "id": "72237df7",
   "metadata": {},
   "outputs": [
    {
     "name": "stdout",
     "output_type": "stream",
     "text": [
      "Enter Marks of 5 Different Subject's\n",
      "enter Mathematics Marks : 2\n",
      "enter Islamiat Marks : 2\n",
      "enter Urdu Marks : 1\n",
      "enter English Marks : 1\n",
      "enter Science Marks : 0\n",
      "Enter Total marks : 100\n",
      "Your percentage is : 6.0%\n",
      "You are Fail!\n"
     ]
    }
   ],
   "source": [
    "#7.Write a program which takes 5 inputs from user for different subject’s marks, total it and generate mark sheet using grades?\n",
    "print(\"Enter Marks of 5 Different Subject's\");\n",
    "mathMarks= int(input(\"enter Mathematics Marks : \"));\n",
    "islMarks= int(input(\"enter Islamiat Marks : \"));\n",
    "urduMarks= int(input(\"enter Urdu Marks : \"));\n",
    "engMarks= int(input(\"enter English Marks : \"));\n",
    "sciMarks= int(input(\"enter Science Marks : \"));\n",
    "totalMarks = int(input(\"Enter Total marks : \"));\n",
    "\n",
    "obtainedMarks= mathMarks + islMarks + urduMarks + engMarks + sciMarks ;\n",
    "percentage = (obtainedMarks/totalMarks)*100;\n",
    "print(\"Your percentage is : \"+str(percentage)+\"%\");\n",
    "if percentage > 100 and percentage < 0:\n",
    "    print(\"calculate correct Percentage\");\n",
    "elif percentage <= 100 and percentage >= 80:\n",
    "    print(\"You Got A+ Grade\");\n",
    "elif percentage < 80 and percentage >= 70:\n",
    "    print(\"You Got A Grade\");\n",
    "elif percentage < 70 and percentage >= 60:\n",
    "    print(\"You Got B Grade\");\n",
    "elif percentage < 60 and percentage >= 50:\n",
    "    print(\"You Got C Grade\");\n",
    "elif percentage < 50 and percentage >= 40:\n",
    "    print(\"You Got D Grade\");\n",
    "elif percentage < 40 and percentage >= 33:\n",
    "    print(\"You Got E Grade\");\n",
    "else:\n",
    "    print(\"You are Fail!\");"
   ]
  },
  {
   "cell_type": "code",
   "execution_count": 2,
   "id": "ba51a0a6",
   "metadata": {},
   "outputs": [
    {
     "name": "stdout",
     "output_type": "stream",
     "text": [
      "Enter any number : 5\n",
      "This is an odd number.\n"
     ]
    }
   ],
   "source": [
    "# 8. Write a program which take input from user and identify that the given number is even or odd?\n",
    "number = int(input(\"Enter any number : \"));\n",
    "mod = number % 2;\n",
    "if mod > 0:\n",
    "    print(\"This is an odd number.\");\n",
    "else:\n",
    "    print(\"This is an even number.\");"
   ]
  },
  {
   "cell_type": "code",
   "execution_count": 8,
   "id": "0dc3ae1e",
   "metadata": {},
   "outputs": [
    {
     "name": "stdout",
     "output_type": "stream",
     "text": [
      "length of the list is : 8\n"
     ]
    }
   ],
   "source": [
    "# 9. Write a program which print the length of the list?\n",
    "age = [23, \"sana\", 34, 23, \"happy\", 11, 34.7, 78];\n",
    "print(\"length of the list is :\",len(age));"
   ]
  },
  {
   "cell_type": "code",
   "execution_count": 14,
   "id": "40af29fc",
   "metadata": {},
   "outputs": [
    {
     "name": "stdout",
     "output_type": "stream",
     "text": [
      "Sum of all elements in given list: 127.6\n"
     ]
    }
   ],
   "source": [
    "# 10.Write a Python program to sum all the numeric items in a list?\n",
    "lst_num = [6,7,88,8.6,4,7,0,7];\n",
    "add=0;\n",
    "for num in range(0, len(lst_num)):\n",
    "    add = add + lst_num[num];\n",
    "print(\"Sum of all elements in given list:\",add);\n"
   ]
  },
  {
   "cell_type": "code",
   "execution_count": 11,
   "id": "242c01b1",
   "metadata": {},
   "outputs": [
    {
     "name": "stdout",
     "output_type": "stream",
     "text": [
      "Largest element in the is: 10000\n"
     ]
    }
   ],
   "source": [
    "# 11.Write a Python program to get the largest number from a numeric list.\n",
    "num = [10000, 2780, 999,224, 385, 999];\n",
    "num.sort();\n",
    "print(\"Largest element in the is:\", num[-1]);"
   ]
  },
  {
   "cell_type": "code",
   "execution_count": 11,
   "id": "6b3468b3",
   "metadata": {},
   "outputs": [
    {
     "name": "stdout",
     "output_type": "stream",
     "text": [
      "[4, 4, 2, 0, 1, 4, 0, 4, 3.2, 2.25]\n"
     ]
    }
   ],
   "source": [
    "# 12. write a program that prints out  all the elements of the list that are less than 5.\n",
    "lst1 =[7,4,4,2,0,1,4,7,88,11,00,33,4,3.2,2.25,5,6];\n",
    "lst2= []\n",
    "[lst2.append(elements) for elements in lst1 if elements < 5];\n",
    "print(lst2);\n",
    "    "
   ]
  },
  {
   "cell_type": "code",
   "execution_count": null,
   "id": "85103f1f",
   "metadata": {},
   "outputs": [],
   "source": []
  },
  {
   "cell_type": "code",
   "execution_count": null,
   "id": "cf40c4ab",
   "metadata": {},
   "outputs": [],
   "source": []
  }
 ],
 "metadata": {
  "kernelspec": {
   "display_name": "Python 3",
   "language": "python",
   "name": "python3"
  },
  "language_info": {
   "codemirror_mode": {
    "name": "ipython",
    "version": 3
   },
   "file_extension": ".py",
   "mimetype": "text/x-python",
   "name": "python",
   "nbconvert_exporter": "python",
   "pygments_lexer": "ipython3",
   "version": "3.8.8"
  }
 },
 "nbformat": 4,
 "nbformat_minor": 5
}
