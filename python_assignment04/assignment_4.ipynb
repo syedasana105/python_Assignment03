{
 "cells": [
  {
   "cell_type": "code",
   "execution_count": 2,
   "id": "1a6c0e65",
   "metadata": {},
   "outputs": [
    {
     "name": "stdout",
     "output_type": "stream",
     "text": [
      "Enter 1st number: 6\n",
      "Enter operator: ^\n",
      "Enter 2nd number: 2\n",
      "36\n"
     ]
    }
   ],
   "source": [
    "#1. Make a calculator using Python with addition , subtraction ,multiplication ,division and power \n",
    "num1 = int(input(\"Enter 1st number: \"))\n",
    "\n",
    "opr = input(\"Enter operator: \")\n",
    "\n",
    "num2 = int(input(\"Enter 2nd number: \"))\n",
    "\n",
    "if opr == \"+\":\n",
    "    print(num1 + num2)\n",
    "elif opr == \"-\":\n",
    "    print(num1 - num2)\n",
    "elif opr == \"*\":\n",
    "    print(num1 * num2)\n",
    "elif opr == \"/\":\n",
    "    print(num1 / num2)\n",
    "elif opr == \"^\":\n",
    "    print(num1**num2)"
   ]
  },
  {
   "cell_type": "code",
   "execution_count": 5,
   "id": "94784283",
   "metadata": {},
   "outputs": [
    {
     "name": "stdout",
     "output_type": "stream",
     "text": [
      "12\n",
      "87\n",
      "9\n"
     ]
    }
   ],
   "source": [
    "#2. Write a program to check if there is any numeric value in list using for loop.\n",
    "colors = [12, \"happy\", \"99\", 87, 34.1, 98.2,9]\n",
    "for x in colors:\n",
    "    if type(x) == int:\n",
    "        print(x)"
   ]
  },
  {
   "cell_type": "code",
   "execution_count": 6,
   "id": "534a3377",
   "metadata": {},
   "outputs": [
    {
     "name": "stdout",
     "output_type": "stream",
     "text": [
      "{1: 1, 2: 4, 3: 9, 8: 5}\n"
     ]
    }
   ],
   "source": [
    "#3. Write a Python script to add a key to a dictionary.\n",
    "dict= {1: 1, 2: 4, 3: 9}\n",
    "dict[8] = 5 \n",
    "print(dict)"
   ]
  },
  {
   "cell_type": "code",
   "execution_count": 9,
   "id": "cc420424",
   "metadata": {},
   "outputs": [
    {
     "name": "stdout",
     "output_type": "stream",
     "text": [
      "Sum of marks values in the dictionary: 305\n"
     ]
    }
   ],
   "source": [
    "#4. Write a Python program to sum all the numeric items in a dictionary.\n",
    "dct={'marks1':80,'marks2':90,'marks3':59, \"marks4\": 76}\n",
    "print(\"Sum of marks values in the dictionary:\",sum(dct.values()))"
   ]
  },
  {
   "cell_type": "code",
   "execution_count": 15,
   "id": "c4ca5fef",
   "metadata": {},
   "outputs": [
    {
     "name": "stdout",
     "output_type": "stream",
     "text": [
      "2 3 8 5 9 7 5 "
     ]
    }
   ],
   "source": [
    "# 5. Write a program to identify duplicate values from list.\n",
    "lst1=[2,3,5,2,3,4,8,7,8,9,5,6,9,7,5]\n",
    "lst2=[]\n",
    "for i in lst1:\n",
    "    if i not in lst2:\n",
    "        lst2.append(i)\n",
    "    else:\n",
    "        print(i,end=' ')"
   ]
  },
  {
   "cell_type": "code",
   "execution_count": 19,
   "id": "cda5d7f1",
   "metadata": {},
   "outputs": [
    {
     "name": "stdout",
     "output_type": "stream",
     "text": [
      "The given dictionary :  {'january': 1, 'februry': 2, 'march': 3, 'april': 4, 'may': 5, 'june': 6, 'july': 7, 'august': 8, 'september': 9, 'november': 11, 'december': 12}\n",
      "october  is not Present in the dictionary.\n"
     ]
    }
   ],
   "source": [
    "# 6. Write a Python script to check if a given key already exists in a dictionary.\n",
    "month = {'january':1,'februry':2,'march':3,'april':4, \"may\":5, \"june\":6,\"july\":7,\"august\":8,\"september\":9,\"november\":11,\"december\":12}\n",
    "print(\"The given dictionary : \",month)\n",
    "check = \"october\"\n",
    "if check in month:\n",
    "   print(check,\"is Present in the dictionary.\")\n",
    "else:\n",
    "   print(check, \" is not Present in the dictionary.\")"
   ]
  },
  {
   "cell_type": "code",
   "execution_count": null,
   "id": "fc625f2c",
   "metadata": {},
   "outputs": [],
   "source": []
  },
  {
   "cell_type": "code",
   "execution_count": null,
   "id": "8ebfc14b",
   "metadata": {},
   "outputs": [],
   "source": []
  }
 ],
 "metadata": {
  "kernelspec": {
   "display_name": "Python 3",
   "language": "python",
   "name": "python3"
  },
  "language_info": {
   "codemirror_mode": {
    "name": "ipython",
    "version": 3
   },
   "file_extension": ".py",
   "mimetype": "text/x-python",
   "name": "python",
   "nbconvert_exporter": "python",
   "pygments_lexer": "ipython3",
   "version": "3.8.8"
  }
 },
 "nbformat": 4,
 "nbformat_minor": 5
}
